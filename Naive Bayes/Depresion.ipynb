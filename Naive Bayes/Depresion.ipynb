{
 "cells": [
  {
   "cell_type": "code",
   "execution_count": 1,
   "id": "6202938f",
   "metadata": {},
   "outputs": [],
   "source": [
    "\n",
    "import numpy as np\n",
    "import pandas as pd\n",
    "\n"
   ]
  },
  {
   "cell_type": "code",
   "execution_count": 14,
   "id": "8c4e6ea8",
   "metadata": {},
   "outputs": [
    {
     "name": "stderr",
     "output_type": "stream",
     "text": [
      "C:\\Users\\VictorJose\\anaconda3\\lib\\site-packages\\numpy\\lib\\arraysetops.py:583: FutureWarning: elementwise comparison failed; returning scalar instead, but in the future will perform elementwise comparison\n",
      "  mask |= (ar1 == a)\n"
     ]
    },
    {
     "data": {
      "text/html": [
       "<div>\n",
       "<style scoped>\n",
       "    .dataframe tbody tr th:only-of-type {\n",
       "        vertical-align: middle;\n",
       "    }\n",
       "\n",
       "    .dataframe tbody tr th {\n",
       "        vertical-align: top;\n",
       "    }\n",
       "\n",
       "    .dataframe thead th {\n",
       "        text-align: right;\n",
       "    }\n",
       "</style>\n",
       "<table border=\"1\" class=\"dataframe\">\n",
       "  <thead>\n",
       "    <tr style=\"text-align: right;\">\n",
       "      <th></th>\n",
       "      <th>text</th>\n",
       "      <th>label</th>\n",
       "      <th>user</th>\n",
       "    </tr>\n",
       "  </thead>\n",
       "  <tbody>\n",
       "    <tr>\n",
       "      <th>0</th>\n",
       "      <td>El domingo voy a ver a Doja cat y a the stroke...</td>\n",
       "      <td>True</td>\n",
       "      <td>user0</td>\n",
       "    </tr>\n",
       "    <tr>\n",
       "      <th>1</th>\n",
       "      <td>Endeudarme es mi pasión</td>\n",
       "      <td>True</td>\n",
       "      <td>user0</td>\n",
       "    </tr>\n",
       "    <tr>\n",
       "      <th>2</th>\n",
       "      <td>Analizando de qué esta es mi última semana de ...</td>\n",
       "      <td>True</td>\n",
       "      <td>user0</td>\n",
       "    </tr>\n",
       "    <tr>\n",
       "      <th>3</th>\n",
       "      <td>Cada día más enamorada de Park Jimin❣️ https:/...</td>\n",
       "      <td>True</td>\n",
       "      <td>user0</td>\n",
       "    </tr>\n",
       "    <tr>\n",
       "      <th>4</th>\n",
       "      <td>Fui muy feliz en el cine hoy 😭❣️ @BTS_twt #Per...</td>\n",
       "      <td>True</td>\n",
       "      <td>user0</td>\n",
       "    </tr>\n",
       "  </tbody>\n",
       "</table>\n",
       "</div>"
      ],
      "text/plain": [
       "                                                text  label   user\n",
       "0  El domingo voy a ver a Doja cat y a the stroke...   True  user0\n",
       "1                            Endeudarme es mi pasión   True  user0\n",
       "2  Analizando de qué esta es mi última semana de ...   True  user0\n",
       "3  Cada día más enamorada de Park Jimin❣️ https:/...   True  user0\n",
       "4  Fui muy feliz en el cine hoy 😭❣️ @BTS_twt #Per...   True  user0"
      ]
     },
     "execution_count": 14,
     "metadata": {},
     "output_type": "execute_result"
    }
   ],
   "source": [
    "data = pd.read_csv('depresion twitter modificado_dani.csv', index_col=0, dtype ={'Unnamed: 0': int, 'text': str, 'label': bool, 'user': str}, sep = ',')\n",
    "data.head()"
   ]
  },
  {
   "cell_type": "code",
   "execution_count": 15,
   "id": "7c01b9e6",
   "metadata": {},
   "outputs": [
    {
     "data": {
      "text/html": [
       "<div>\n",
       "<style scoped>\n",
       "    .dataframe tbody tr th:only-of-type {\n",
       "        vertical-align: middle;\n",
       "    }\n",
       "\n",
       "    .dataframe tbody tr th {\n",
       "        vertical-align: top;\n",
       "    }\n",
       "\n",
       "    .dataframe thead th {\n",
       "        text-align: right;\n",
       "    }\n",
       "</style>\n",
       "<table border=\"1\" class=\"dataframe\">\n",
       "  <thead>\n",
       "    <tr style=\"text-align: right;\">\n",
       "      <th></th>\n",
       "      <th>text</th>\n",
       "      <th>label</th>\n",
       "      <th>user</th>\n",
       "    </tr>\n",
       "  </thead>\n",
       "  <tbody>\n",
       "    <tr>\n",
       "      <th>1008226</th>\n",
       "      <td>Como tú no hay nadie, escúchame 🙊💕🎶</td>\n",
       "      <td>False</td>\n",
       "      <td>user941</td>\n",
       "    </tr>\n",
       "    <tr>\n",
       "      <th>1008227</th>\n",
       "      <td>Perrito buapo😍🙊💕 http://t.co/H89XEdJxoB</td>\n",
       "      <td>False</td>\n",
       "      <td>user941</td>\n",
       "    </tr>\n",
       "    <tr>\n",
       "      <th>1008228</th>\n",
       "      <td>Photoset: *-*. http://t.co/n86r2GUKKU</td>\n",
       "      <td>False</td>\n",
       "      <td>user941</td>\n",
       "    </tr>\n",
       "    <tr>\n",
       "      <th>1008229</th>\n",
       "      <td>\"Hay muchas cosas que me gustarían decirte per...</td>\n",
       "      <td>False</td>\n",
       "      <td>user941</td>\n",
       "    </tr>\n",
       "    <tr>\n",
       "      <th>1008230</th>\n",
       "      <td>Cuando me enojo de verdad no mido lo que digo ...</td>\n",
       "      <td>False</td>\n",
       "      <td>user941</td>\n",
       "    </tr>\n",
       "  </tbody>\n",
       "</table>\n",
       "</div>"
      ],
      "text/plain": [
       "                                                      text  label     user\n",
       "1008226                Como tú no hay nadie, escúchame 🙊💕🎶  False  user941\n",
       "1008227            Perrito buapo😍🙊💕 http://t.co/H89XEdJxoB  False  user941\n",
       "1008228              Photoset: *-*. http://t.co/n86r2GUKKU  False  user941\n",
       "1008229  \"Hay muchas cosas que me gustarían decirte per...  False  user941\n",
       "1008230  Cuando me enojo de verdad no mido lo que digo ...  False  user941"
      ]
     },
     "execution_count": 15,
     "metadata": {},
     "output_type": "execute_result"
    }
   ],
   "source": [
    "data.tail()"
   ]
  },
  {
   "cell_type": "code",
   "execution_count": 16,
   "id": "fd8b58ca",
   "metadata": {},
   "outputs": [
    {
     "data": {
      "text/plain": [
       "True     1774721\n",
       "False    1008231\n",
       "Name: label, dtype: int64"
      ]
     },
     "execution_count": 16,
     "metadata": {},
     "output_type": "execute_result"
    }
   ],
   "source": [
    "data[\"label\"].value_counts()"
   ]
  },
  {
   "cell_type": "code",
   "execution_count": 24,
   "id": "2c41c56c",
   "metadata": {},
   "outputs": [
    {
     "data": {
      "text/plain": [
       "0          el domingo voy a ver a doja cat y a the stroke...\n",
       "1                                    endeudarme es mi pasión\n",
       "2          analizando de qué esta es mi última semana de ...\n",
       "3          cada día más enamorada de park jimin❣️ https:/...\n",
       "4          fui muy feliz en el cine hoy 😭❣️ @bts_twt #per...\n",
       "                                 ...                        \n",
       "1008226                  como tú no hay nadie, escúchame 🙊💕🎶\n",
       "1008227              perrito buapo😍🙊💕 http://t.co/h89xedjxob\n",
       "1008228                photoset: *-*. http://t.co/n86r2gukku\n",
       "1008229    \"hay muchas cosas que me gustarían decirte per...\n",
       "1008230    cuando me enojo de verdad no mido lo que digo ...\n",
       "Name: text, Length: 2782952, dtype: object"
      ]
     },
     "execution_count": 24,
     "metadata": {},
     "output_type": "execute_result"
    }
   ],
   "source": [
    "data_minus = data[\"text\"].str.lower()\n",
    "data_minus"
   ]
  },
  {
   "cell_type": "code",
   "execution_count": null,
   "id": "1fa89bcd",
   "metadata": {},
   "outputs": [],
   "source": []
  }
 ],
 "metadata": {
  "kernelspec": {
   "display_name": "Python 3",
   "language": "python",
   "name": "python3"
  },
  "language_info": {
   "codemirror_mode": {
    "name": "ipython",
    "version": 3
   },
   "file_extension": ".py",
   "mimetype": "text/x-python",
   "name": "python",
   "nbconvert_exporter": "python",
   "pygments_lexer": "ipython3",
   "version": "3.8.8"
  }
 },
 "nbformat": 4,
 "nbformat_minor": 5
}
